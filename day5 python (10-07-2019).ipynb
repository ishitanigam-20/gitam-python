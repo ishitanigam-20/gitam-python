{
 "cells": [
  {
   "cell_type": "markdown",
   "metadata": {},
   "source": [
    "## DICTIONARIES\n",
    "- CONCEPT => SET UNIQUE IDEA\n",
    "- KEY VALUE => UNIQUE IDENTIFIER OF A VALUE\n",
    "- colon(:) is used to seperate each key from its value\n",
    "- COMMA(,) SEPERATES EACH (KEY&VALUE)\n",
    "- DICTIONARIES => {}"
   ]
  },
  {
   "cell_type": "code",
   "execution_count": 1,
   "metadata": {},
   "outputs": [
    {
     "name": "stdout",
     "output_type": "stream",
     "text": [
      "{'name': 'gitam', 'emailid': 'gitam@gmail.com', 'address': 'hyderabad'}\n"
     ]
    }
   ],
   "source": [
    "d1= {\"name\":\"gitam\",\"emailid\":\"gitam@gmail.com\",\"address\":\"hyderabad\"}\n",
    "print(d1)"
   ]
  },
  {
   "cell_type": "code",
   "execution_count": 3,
   "metadata": {},
   "outputs": [],
   "source": [
    "d1[\"emailid\"] = \"gitam-python@gmail.com\"                     # MODIFY VALUE"
   ]
  },
  {
   "cell_type": "code",
   "execution_count": 4,
   "metadata": {},
   "outputs": [
    {
     "name": "stdout",
     "output_type": "stream",
     "text": [
      "emailid\n"
     ]
    }
   ],
   "source": [
    "print(\"emailid\")"
   ]
  },
  {
   "cell_type": "code",
   "execution_count": 5,
   "metadata": {},
   "outputs": [
    {
     "name": "stdout",
     "output_type": "stream",
     "text": [
      "{'name': 'gitam', 'emailid': 'gitam-python@gmail.com', 'address': 'hyderabad'}\n"
     ]
    }
   ],
   "source": [
    "print(d1)              # PRINT DICT."
   ]
  },
  {
   "cell_type": "code",
   "execution_count": 6,
   "metadata": {},
   "outputs": [],
   "source": [
    "del d1[\"emailid\"]      # DEL TUPLE"
   ]
  },
  {
   "cell_type": "code",
   "execution_count": 7,
   "metadata": {},
   "outputs": [
    {
     "name": "stdout",
     "output_type": "stream",
     "text": [
      "{'name': 'gitam', 'address': 'hyderabad'}\n"
     ]
    }
   ],
   "source": [
    "print(d1)"
   ]
  },
  {
   "cell_type": "code",
   "execution_count": 8,
   "metadata": {},
   "outputs": [
    {
     "data": {
      "text/plain": [
       "dict_keys(['name', 'address'])"
      ]
     },
     "execution_count": 8,
     "metadata": {},
     "output_type": "execute_result"
    }
   ],
   "source": [
    "d1.keys()      # list of keys"
   ]
  },
  {
   "cell_type": "code",
   "execution_count": 9,
   "metadata": {},
   "outputs": [
    {
     "data": {
      "text/plain": [
       "dict_values(['gitam', 'hyderabad'])"
      ]
     },
     "execution_count": 9,
     "metadata": {},
     "output_type": "execute_result"
    }
   ],
   "source": [
    "d1.values()       # list of values"
   ]
  },
  {
   "cell_type": "code",
   "execution_count": 10,
   "metadata": {},
   "outputs": [
    {
     "data": {
      "text/plain": [
       "dict_items([('name', 'gitam'), ('address', 'hyderabad')])"
      ]
     },
     "execution_count": 10,
     "metadata": {},
     "output_type": "execute_result"
    }
   ],
   "source": [
    "d1.items()       # list of tuples(key & value)"
   ]
  },
  {
   "cell_type": "markdown",
   "metadata": {},
   "source": [
    "## TUPLES\n",
    "- KEY + VALUE\n",
    "- T1 PARENTHESIS()              :    LIST SQUARE BRACES[]\n",
    "- IMMUTABLE(NOT MODIFIABLE(del))     :    THEY R MUTABLE(CAN BE MODIFIED(ADD & DEL))"
   ]
  },
  {
   "cell_type": "code",
   "execution_count": 12,
   "metadata": {},
   "outputs": [
    {
     "data": {
      "text/plain": [
       "tuple"
      ]
     },
     "execution_count": 12,
     "metadata": {},
     "output_type": "execute_result"
    }
   ],
   "source": [
    "t1=(1,2,3,4,8)\n",
    "t1\n",
    "type(t1)       # CHECK TYPE"
   ]
  },
  {
   "cell_type": "code",
   "execution_count": 13,
   "metadata": {},
   "outputs": [
    {
     "data": {
      "text/plain": [
       "(2, 3)"
      ]
     },
     "execution_count": 13,
     "metadata": {},
     "output_type": "execute_result"
    }
   ],
   "source": [
    "t1[1:3]"
   ]
  },
  {
   "cell_type": "markdown",
   "metadata": {},
   "source": [
    "## CONTACT APPLICATION\n",
    "- ADD CONTACT\n",
    "- SEARCH CONTACT\n",
    "- LIST ALL CONTACTS\n",
    "        - NAME1:PHONE1\n",
    "        - NAME2:PHONE2\n",
    "- MODIFY CONTACT\n",
    "- REMOVE CONTACT\n",
    "- IMPORT CONTACT"
   ]
  },
  {
   "cell_type": "code",
   "execution_count": 15,
   "metadata": {},
   "outputs": [
    {
     "name": "stdout",
     "output_type": "stream",
     "text": [
      "details added\n",
      "details added\n",
      "already existing\n"
     ]
    }
   ],
   "source": [
    "# ADD CONTACT(ac)\n",
    "contacts = {}             # creating dict.\n",
    "def ac(name,ph):\n",
    "    if name not in contacts:\n",
    "        contacts[name] = ph\n",
    "        print(\"details added\")\n",
    "    else:\n",
    "        print(\"already existing\")\n",
    "    return\n",
    "ac('anil','9513578426')\n",
    "ac('anjali','8502532007')\n",
    "ac('anil','9513578426')"
   ]
  },
  {
   "cell_type": "code",
   "execution_count": 16,
   "metadata": {},
   "outputs": [
    {
     "name": "stdout",
     "output_type": "stream",
     "text": [
      "anjali : 8502532007\n",
      "deepti doesn't exist\n",
      "ish doesn't exist\n"
     ]
    }
   ],
   "source": [
    "# search contact(sc)\n",
    "def sc(name):\n",
    "    if name in contacts:\n",
    "        print(name,\":\",contacts[name])\n",
    "    else:\n",
    "        print(\"%s doesn't exist\" % name)\n",
    "    return\n",
    "sc('anjali')\n",
    "sc('deepti')\n",
    "sc('ish')"
   ]
  },
  {
   "cell_type": "code",
   "execution_count": 18,
   "metadata": {},
   "outputs": [
    {
     "name": "stdout",
     "output_type": "stream",
     "text": [
      "2 contact added\n"
     ]
    }
   ],
   "source": [
    "# import contacts(ic) & merge wth existing list\n",
    "def ic(nc):                 #nc = new contacts\n",
    "    contacts.update(nc)\n",
    "    print(len(nc.keys()),\"contact added\")\n",
    "    return\n",
    "nc={'mia':'9512368740','sia':'74010236589'}\n",
    "ic(nc)"
   ]
  },
  {
   "cell_type": "code",
   "execution_count": 19,
   "metadata": {},
   "outputs": [
    {
     "data": {
      "text/plain": [
       "{'anil': '9513578426',\n",
       " 'anjali': '8502532007',\n",
       " 'mia': '9512368740',\n",
       " 'sia': '74010236589'}"
      ]
     },
     "execution_count": 19,
     "metadata": {},
     "output_type": "execute_result"
    }
   ],
   "source": [
    "contacts\n"
   ]
  },
  {
   "cell_type": "code",
   "execution_count": 23,
   "metadata": {},
   "outputs": [
    {
     "name": "stdout",
     "output_type": "stream",
     "text": [
      "anil deleted\n",
      "kiara not existing\n"
     ]
    }
   ],
   "source": [
    "# delete contact(dc)\n",
    "def dc(name):\n",
    "    if name in contacts:\n",
    "        print(name,\"deleted\")\n",
    "    else:\n",
    "        print(name,\"not existing\")\n",
    "    return\n",
    "dc('anil')\n",
    "dc('kiara')"
   ]
  },
  {
   "cell_type": "code",
   "execution_count": 29,
   "metadata": {},
   "outputs": [
    {
     "name": "stdout",
     "output_type": "stream",
     "text": [
      "anjali updated\n",
      "kiara not existing\n"
     ]
    }
   ],
   "source": [
    "# updating contact no.\n",
    "def dc(name,ph):\n",
    "    if name in contacts:\n",
    "        contacts[name]=ph\n",
    "        print(name,\"updated\")\n",
    "    else:\n",
    "        print(name,'not existing')\n",
    "    return\n",
    "dc('anjali',9513578426)\n",
    "dc('kiara',9513578426)"
   ]
  },
  {
   "cell_type": "markdown",
   "metadata": {},
   "source": [
    "## PACKAGES & MODULES\n",
    "###  PACKAGES\n",
    "- A COLLECTION OF MODULES (SINGLE PYTHON FILES .py & SUBPACKAGES)\n",
    "### MODULE\n",
    "- A SINGLE PYTHON FILE CONTAINING SET OF FUNCTIONS\n",
    "##  PACKAGES --> SUB-PACKAGE --> MODULE -->FUNCTIONS --> STATEMENTS\n",
    "- IMPORT : the externals packages to python file"
   ]
  },
  {
   "cell_type": "code",
   "execution_count": 1,
   "metadata": {},
   "outputs": [
    {
     "data": {
      "text/plain": [
       "123"
      ]
     },
     "execution_count": 1,
     "metadata": {},
     "output_type": "execute_result"
    }
   ],
   "source": [
    "import math\n",
    "math.floor(123.45)"
   ]
  },
  {
   "cell_type": "code",
   "execution_count": 2,
   "metadata": {},
   "outputs": [
    {
     "data": {
      "text/plain": [
       "120"
      ]
     },
     "execution_count": 2,
     "metadata": {},
     "output_type": "execute_result"
    }
   ],
   "source": [
    "from math import factorial as fact\n",
    "fact(5)"
   ]
  },
  {
   "cell_type": "code",
   "execution_count": 3,
   "metadata": {},
   "outputs": [
    {
     "name": "stdout",
     "output_type": "stream",
     "text": [
      "5 19 77 14 45 29 14 26 58 50 "
     ]
    }
   ],
   "source": [
    "#generate n random nos in given range\n",
    "import random\n",
    "def randomnos(n,lb,ub):\n",
    "    for i in range (0,n):\n",
    "        print(random.randint(lb,ub),end=\" \")\n",
    "    return\n",
    "randomnos(10,0,100)"
   ]
  },
  {
   "cell_type": "code",
   "execution_count": 6,
   "metadata": {},
   "outputs": [
    {
     "ename": "NameError",
     "evalue": "name 'i' is not defined",
     "output_type": "error",
     "traceback": [
      "\u001b[0;31m---------------------------------------------------------------------------\u001b[0m",
      "\u001b[0;31mNameError\u001b[0m                                 Traceback (most recent call last)",
      "\u001b[0;32m<ipython-input-6-afc66d56146a>\u001b[0m in \u001b[0;36m<module>\u001b[0;34m\u001b[0m\n\u001b[1;32m      9\u001b[0m             \u001b[0mprint\u001b[0m\u001b[0;34m(\u001b[0m\u001b[0;34m\"try again\"\u001b[0m\u001b[0;34m)\u001b[0m\u001b[0;34m\u001b[0m\u001b[0;34m\u001b[0m\u001b[0m\n\u001b[1;32m     10\u001b[0m     \u001b[0;32mreturn\u001b[0m\u001b[0;34m\u001b[0m\u001b[0;34m\u001b[0m\u001b[0m\n\u001b[0;32m---> 11\u001b[0;31m \u001b[0mrn\u001b[0m\u001b[0;34m(\u001b[0m\u001b[0mi\u001b[0m\u001b[0;34m)\u001b[0m\u001b[0;34m\u001b[0m\u001b[0;34m\u001b[0m\u001b[0m\n\u001b[0m",
      "\u001b[0;31mNameError\u001b[0m: name 'i' is not defined"
     ]
    }
   ],
   "source": [
    "# give 20 random nos as i/p . if no. is b/w. 0 to 500 (congrats) else (try again)\n",
    "def rn(x):\n",
    "    i=0\n",
    "    while i<20:\n",
    "        if x>=0 and x<=500:\n",
    "            print(\"congrats\")\n",
    "            i=i+1\n",
    "        else:\n",
    "            print(\"try again\")\n",
    "    return\n",
    "rn()"
   ]
  },
  {
   "cell_type": "code",
   "execution_count": null,
   "metadata": {},
   "outputs": [],
   "source": []
  }
 ],
 "metadata": {
  "kernelspec": {
   "display_name": "Python 3",
   "language": "python",
   "name": "python3"
  },
  "language_info": {
   "codemirror_mode": {
    "name": "ipython",
    "version": 3
   },
   "file_extension": ".py",
   "mimetype": "text/x-python",
   "name": "python",
   "nbconvert_exporter": "python",
   "pygments_lexer": "ipython3",
   "version": "3.7.3"
  }
 },
 "nbformat": 4,
 "nbformat_minor": 2
}
