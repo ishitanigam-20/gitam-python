{
 "cells": [
  {
   "cell_type": "markdown",
   "metadata": {},
   "source": [
    "### PYTHON DS\n",
    "#### LISTS\n",
    "- It's a ds supported by python , the list items are seperated by comma operator & enclosed by square brackets .\n",
    "- ex: list1 = [2,5,9,100]\n",
    "-     list2 = [\"Gitam\",26,78,\"hyd\"]"
   ]
  },
  {
   "cell_type": "code",
   "execution_count": 11,
   "metadata": {},
   "outputs": [
    {
     "name": "stdout",
     "output_type": "stream",
     "text": [
      "[1, 8, 16, 9, 2]\n",
      "1\n",
      "8\n",
      "2\n",
      "9\n",
      "[8, 16, 9, 2]\n",
      "[8, 16, 9]\n",
      "[1, 8, 16, 9, 2]\n",
      "[1, 8, 16, 6888, 2]\n",
      "[1, 8, 16, 6888, 2]\n",
      "[1, 8, 6888, 2]\n"
     ]
    },
    {
     "ename": "TypeError",
     "evalue": "'builtin_function_or_method' object is not subscriptable",
     "output_type": "error",
     "traceback": [
      "\u001b[0;31m---------------------------------------------------------------------------\u001b[0m",
      "\u001b[0;31mTypeError\u001b[0m                                 Traceback (most recent call last)",
      "\u001b[0;32m<ipython-input-11-7798ef1d1911>\u001b[0m in \u001b[0;36m<module>\u001b[0;34m\u001b[0m\n\u001b[1;32m     22\u001b[0m \u001b[0mprint\u001b[0m\u001b[0;34m(\u001b[0m\u001b[0ml\u001b[0m\u001b[0;34m)\u001b[0m        \u001b[0;31m#print new list\u001b[0m\u001b[0;34m\u001b[0m\u001b[0;34m\u001b[0m\u001b[0m\n\u001b[1;32m     23\u001b[0m \u001b[0ml\u001b[0m\u001b[0;34m=\u001b[0m\u001b[0;34m[\u001b[0m\u001b[0;36m1\u001b[0m\u001b[0;34m,\u001b[0m\u001b[0;36m2\u001b[0m\u001b[0;34m,\u001b[0m\u001b[0;36m3\u001b[0m\u001b[0;34m,\u001b[0m\u001b[0;36m4\u001b[0m\u001b[0;34m,\u001b[0m\u001b[0;36m5\u001b[0m\u001b[0;34m,\u001b[0m\u001b[0;36m6\u001b[0m\u001b[0;34m,\u001b[0m\u001b[0;36m7\u001b[0m\u001b[0;34m,\u001b[0m\u001b[0;36m8\u001b[0m\u001b[0;34m]\u001b[0m\u001b[0;34m\u001b[0m\u001b[0;34m\u001b[0m\u001b[0m\n\u001b[0;32m---> 24\u001b[0;31m \u001b[0mprint\u001b[0m\u001b[0;34m(\u001b[0m\u001b[0mlen\u001b[0m\u001b[0;34m[\u001b[0m\u001b[0ml\u001b[0m\u001b[0;34m]\u001b[0m\u001b[0;34m)\u001b[0m\u001b[0;34m\u001b[0m\u001b[0;34m\u001b[0m\u001b[0m\n\u001b[0m\u001b[1;32m     25\u001b[0m \u001b[0mprint\u001b[0m\u001b[0;34m(\u001b[0m\u001b[0ml\u001b[0m \u001b[0;34m*\u001b[0m \u001b[0;36m2\u001b[0m\u001b[0;34m)\u001b[0m\u001b[0;34m\u001b[0m\u001b[0;34m\u001b[0m\u001b[0m\n\u001b[1;32m     26\u001b[0m \u001b[0mprint\u001b[0m\u001b[0;34m(\u001b[0m\u001b[0mlen\u001b[0m\u001b[0;34m[\u001b[0m\u001b[0ml\u001b[0m\u001b[0;34m]\u001b[0m\u001b[0;34m)\u001b[0m\u001b[0;34m\u001b[0m\u001b[0;34m\u001b[0m\u001b[0m\n",
      "\u001b[0;31mTypeError\u001b[0m: 'builtin_function_or_method' object is not subscriptable"
     ]
    }
   ],
   "source": [
    "l=[1,8,16,9,2]\n",
    "print(l)        #entire list\n",
    "\n",
    "print(l[0])     #0th element\n",
    "\n",
    "print(l[1])     #1st element\n",
    "\n",
    "print(l[-1])    #last element\n",
    "\n",
    "print(l[-2])    #2nd last element\n",
    "\n",
    "print(l[1:])    #list after 1st element\n",
    "\n",
    "print(l[1:4])   #list b/w. 1st & last element\n",
    "\n",
    "print(l)        #entire list\n",
    "l[3]=6888       #change index content\n",
    "print(l)        #print new list\n",
    "\n",
    "print(l)        #entire list\n",
    "del l[2]        #delete an element\n",
    "print(l) \n",
    "#print new list\n"
   ]
  },
  {
   "cell_type": "code",
   "execution_count": 9,
   "metadata": {},
   "outputs": [
    {
     "name": "stdout",
     "output_type": "stream",
     "text": [
      "1\n",
      "8\n",
      "31\n",
      "4\n",
      "4.333333333333333\n"
     ]
    }
   ],
   "source": [
    "lst1=[1,2,3,4,6,7,8]\n",
    "print(min(lst1))\n",
    "print(max(lst1))\n",
    "print(sum(lst1))\n",
    "print(sum(lst1)//len(lst1))\n",
    "print(sum(lst1[1::2])/len(lst1[1::2]))\n"
   ]
  },
  {
   "cell_type": "code",
   "execution_count": 15,
   "metadata": {},
   "outputs": [
    {
     "name": "stdout",
     "output_type": "stream",
     "text": [
      "8\n",
      "[1, 2, 3, 4, 5, 6, 7, 8, 1, 2, 3, 4, 5, 6, 7, 8]\n",
      "8\n",
      "False\n",
      "True\n",
      "12345678"
     ]
    }
   ],
   "source": [
    "lst1=[1,2,3,4,5,6,7,8]\n",
    "print(len(lst1))\n",
    "print(lst1*2) \n",
    "print(len(lst1))\n",
    "print(9 in lst1)  \n",
    "print(1 in lst1)\n",
    "\n",
    "for x in range(len(lst1)):\n",
    "    print(l[x],end='')  "
   ]
  },
  {
   "cell_type": "code",
   "execution_count": 28,
   "metadata": {},
   "outputs": [
    {
     "data": {
      "text/plain": [
       "[88,\n",
       " 44,\n",
       " 33,\n",
       " 22,\n",
       " 66,\n",
       " 66,\n",
       " 56,\n",
       " 56,\n",
       " 56,\n",
       " 56,\n",
       " 56,\n",
       " 56,\n",
       " 56,\n",
       " 56,\n",
       " 44,\n",
       " 44,\n",
       " 33,\n",
       " 33,\n",
       " 24,\n",
       " 24,\n",
       " 24,\n",
       " 24,\n",
       " 24,\n",
       " 24,\n",
       " 24,\n",
       " 24,\n",
       " 24,\n",
       " 24,\n",
       " 24,\n",
       " 24,\n",
       " 22,\n",
       " 22,\n",
       " 8,\n",
       " 7,\n",
       " 6,\n",
       " 1]"
      ]
     },
     "execution_count": 28,
     "metadata": {},
     "output_type": "execute_result"
    }
   ],
   "source": [
    "lst1\n",
    "lst1.append(24)\n",
    "lst1\n",
    "lst1.insert(2,56)\n",
    "lst1\n",
    "lst1.count(8)  #how many times no. has appeared\n",
    "lst1.index(56)\n",
    "lst1.sort()\n",
    "lst1\n",
    "lst1.pop()\n",
    "lst1\n",
    "lst1.pop(1)\n",
    "lst2=[22,33,44,66,88]\n",
    "lst1.extend(lst2)\n",
    "lst1.reverse()\n",
    "lst1.remove(66)\n",
    "lst1"
   ]
  },
  {
   "cell_type": "code",
   "execution_count": 31,
   "metadata": {},
   "outputs": [
    {
     "data": {
      "text/plain": [
       "25"
      ]
     },
     "execution_count": 31,
     "metadata": {},
     "output_type": "execute_result"
    }
   ],
   "source": [
    "# find 2nd &generic largest no.\n",
    "def secLargest(li):\n",
    "    li.sort()\n",
    "    return li[-2]\n",
    "def genericLarge(li,n):\n",
    "    li.sort()\n",
    "    return li[-n]\n",
    "li=[1,9,8,16,88,25,44]\n",
    "genericLarge(li,3)"
   ]
  },
  {
   "cell_type": "code",
   "execution_count": 32,
   "metadata": {},
   "outputs": [
    {
     "data": {
      "text/plain": [
       "9"
      ]
     },
     "execution_count": 32,
     "metadata": {},
     "output_type": "execute_result"
    }
   ],
   "source": [
    "# find 2nd &generic least no.\n",
    "def secLeast(li):\n",
    "    li.sort()\n",
    "    return li[1]\n",
    "def genericLeast(li,n):\n",
    "    li.sort()\n",
    "    return li[n-1]\n",
    "li=[1,9,8,16,88,25,44]\n",
    "genericLeast(li,3)"
   ]
  },
  {
   "cell_type": "markdown",
   "metadata": {},
   "source": [
    "## LINEAR SEARCH\n",
    "- CAN WORK ON DUPLICATE(repeating list) & UNIQUE LIST(no repeating items)"
   ]
  },
  {
   "cell_type": "code",
   "execution_count": 34,
   "metadata": {},
   "outputs": [
    {
     "data": {
      "text/plain": [
       "-1"
      ]
     },
     "execution_count": 34,
     "metadata": {},
     "output_type": "execute_result"
    }
   ],
   "source": [
    "#SEARCH DATA IN LIST (IF YES=> RETURN INDEX) (ELSE => RETURN (-1)\n",
    "def linearSearch(li,tarItem):\n",
    "    for x in range(len(li)):\n",
    "        if li[x]==tarItem:\n",
    "            return x\n",
    "    return -1\n",
    "li=[1,26,84,66,88,92]\n",
    "linearSearch(li,100)"
   ]
  },
  {
   "cell_type": "code",
   "execution_count": 35,
   "metadata": {},
   "outputs": [
    {
     "name": "stdout",
     "output_type": "stream",
     "text": [
      "1468"
     ]
    }
   ],
   "source": [
    "#SEARCH DATA IN repeating LIST (IF YES=> RETURN INDEX) (ELSE => RETURN (-1)\n",
    "def linearSearch(li,tarItem):\n",
    "    for x in range(len(li)):\n",
    "        if li[x]==tarItem:\n",
    "            print(x,end=\"\")\n",
    "    return\n",
    "li=[1,2,84,66,2,88,2,92,2]\n",
    "linearSearch(li,2)"
   ]
  },
  {
   "cell_type": "code",
   "execution_count": 38,
   "metadata": {},
   "outputs": [
    {
     "name": "stdout",
     "output_type": "stream",
     "text": [
      "!! !!!!! !!!!!!!!! "
     ]
    }
   ],
   "source": [
    "def linearSearch3(li,tarItem):\n",
    "    for x in range(len(li)):\n",
    "        if li[x]==tarItem:\n",
    "            j=0\n",
    "            while j !=x+1:\n",
    "                print(\"!\",end=\"\")\n",
    "                j=j+1\n",
    "            print(end=\" \")\n",
    "    return\n",
    "li=[1,5,9,6,5,15,1,2,5]\n",
    "linearSearch3(li,5)     #!! !!!!! !!!!!!!!!"
   ]
  },
  {
   "cell_type": "code",
   "execution_count": 39,
   "metadata": {},
   "outputs": [
    {
     "data": {
      "text/plain": [
       "15"
      ]
     },
     "execution_count": 39,
     "metadata": {},
     "output_type": "execute_result"
    }
   ],
   "source": [
    "# a list item that is perfect multiple of 3 & 5\n",
    "def linearSearch4(li):\n",
    "    sum=0\n",
    "    for x in range(len(li)):\n",
    "        if li[x]%3==0 and li[x]%5==0:\n",
    "            sum+=li[x]\n",
    "    return sum\n",
    "li=[1,5,9,6,5,15,1,2,5]\n",
    "linearSearch4(li)"
   ]
  },
  {
   "cell_type": "code",
   "execution_count": 43,
   "metadata": {},
   "outputs": [
    {
     "ename": "TypeError",
     "evalue": "descriptor 'append' requires a 'list' object but received a 'int'",
     "output_type": "error",
     "traceback": [
      "\u001b[0;31m---------------------------------------------------------------------------\u001b[0m",
      "\u001b[0;31mTypeError\u001b[0m                                 Traceback (most recent call last)",
      "\u001b[0;32m<ipython-input-43-c71a2e8ebbf5>\u001b[0m in \u001b[0;36m<module>\u001b[0;34m\u001b[0m\n\u001b[1;32m      1\u001b[0m \u001b[0;31m# in a list , 1st & last no. should be same , others should be multiplication of prev. & next no.\u001b[0m\u001b[0;34m\u001b[0m\u001b[0;34m\u001b[0m\u001b[0;34m\u001b[0m\u001b[0m\n\u001b[0;32m----> 2\u001b[0;31m \u001b[0mlist\u001b[0m\u001b[0;34m.\u001b[0m\u001b[0mappend\u001b[0m\u001b[0;34m(\u001b[0m\u001b[0;36m1\u001b[0m\u001b[0;34m)\u001b[0m\u001b[0;34m\u001b[0m\u001b[0;34m\u001b[0m\u001b[0m\n\u001b[0m\u001b[1;32m      3\u001b[0m \u001b[0;34m\u001b[0m\u001b[0m\n",
      "\u001b[0;31mTypeError\u001b[0m: descriptor 'append' requires a 'list' object but received a 'int'"
     ]
    }
   ],
   "source": [
    "# in a list , 1st & last no. should be same , others should be multiplication of prev. & next no.\n",
    "list.append(1)\n",
    "\n"
   ]
  },
  {
   "cell_type": "code",
   "execution_count": 42,
   "metadata": {},
   "outputs": [
    {
     "name": "stdout",
     "output_type": "stream",
     "text": [
      "['1grs', 2, 3, 4, 5, 6]\n"
     ]
    }
   ],
   "source": [
    "lst=['1grs',2,3,4,5,6]\n",
    "print(lst)"
   ]
  },
  {
   "cell_type": "code",
   "execution_count": 44,
   "metadata": {},
   "outputs": [
    {
     "name": "stdout",
     "output_type": "stream",
     "text": [
      "1 9 19 22 "
     ]
    }
   ],
   "source": [
    "# print 1st & last no. as it is . then if a no's. prev & next term is even then print it\n",
    "def linearSearch6(li):\n",
    "    for x in range(len(li)):\n",
    "            if x==0 or x==len(li)-1:\n",
    "                print(li[x],end=\" \")\n",
    "            elif li[x-1]%2==0 and li[x+1]%2==0:\n",
    "                print(li[x],end=\" \")\n",
    "    return\n",
    "li=[1,6,9,4,16,19,22]\n",
    "linearSearch6(li)"
   ]
  },
  {
   "cell_type": "markdown",
   "metadata": {},
   "source": [
    "## NUMBER TO LIST\n",
    "- IP= NO.\n",
    "- OP= LIST"
   ]
  },
  {
   "cell_type": "code",
   "execution_count": 45,
   "metadata": {},
   "outputs": [
    {
     "data": {
      "text/plain": [
       "[1, 4, 5, 6, 9]"
      ]
     },
     "execution_count": 45,
     "metadata": {},
     "output_type": "execute_result"
    }
   ],
   "source": [
    "# CONVERT i/p no. to o/p list {i/p=12345678; o/p=[1,2,3,4,5,6,7,8]}\n",
    "def nlc(n):   #nlc=number list conversion\n",
    "    li=[]\n",
    "    while n != 0:\n",
    "        r=n%10\n",
    "        li.append(r)\n",
    "        n=n//10\n",
    "    li.reverse()\n",
    "    return li\n",
    "nlc(14569)"
   ]
  },
  {
   "cell_type": "code",
   "execution_count": 49,
   "metadata": {},
   "outputs": [
    {
     "data": {
      "text/plain": [
       "2"
      ]
     },
     "execution_count": 49,
     "metadata": {},
     "output_type": "execute_result"
    }
   ],
   "source": [
    "#cnt occurance of a char in a string(s,c)=>(string, char ti check)\n",
    "def cco(s,c):     #cco= count char occurance\n",
    "    cnt=0\n",
    "    for ch in s:\n",
    "        if ch==c:\n",
    "            cnt+=1\n",
    "    return cnt\n",
    "def cco(s,c):\n",
    "    return s.count(c)\n",
    "cco(\"Python Programming\",'m')"
   ]
  },
  {
   "cell_type": "code",
   "execution_count": 52,
   "metadata": {},
   "outputs": [
    {
     "data": {
      "text/plain": [
       "[1, 2, 3, 4, 8, 10]"
      ]
     },
     "execution_count": 52,
     "metadata": {},
     "output_type": "execute_result"
    }
   ],
   "source": [
    "# list to str\n",
    "def stlc(s):       #stlc= string to list conversion\n",
    "    li=s.split()\n",
    "    nolist=[]\n",
    "    for i in li:\n",
    "        nolist.append(int(i))\n",
    "    return nolist\n",
    "s = \"1 2 3 4 8 10\"\n",
    "stlc(s)"
   ]
  },
  {
   "cell_type": "markdown",
   "metadata": {},
   "source": [
    "## SORTING\n",
    "- BUBBLE\n",
    "- SELECTION\n",
    "- INSERTION"
   ]
  },
  {
   "cell_type": "markdown",
   "metadata": {},
   "source": [
    "### ARRANGE IN ASCENDING  ORDER"
   ]
  },
  {
   "cell_type": "code",
   "execution_count": 53,
   "metadata": {},
   "outputs": [
    {
     "data": {
      "text/plain": [
       "[1, 3, 6, 18, 19, 25]"
      ]
     },
     "execution_count": 53,
     "metadata": {},
     "output_type": "execute_result"
    }
   ],
   "source": [
    "def bubblesort(li):\n",
    "    for i in range(len(li)-1):\n",
    "        for j in range(len(li)-1):\n",
    "            if li[j]>li[j+1]:\n",
    "                li[j],li[j+1]=li[j+1],li[j]\n",
    "    return li\n",
    "li=[19,1,25,6,18,3]\n",
    "bubblesort(li)"
   ]
  },
  {
   "cell_type": "code",
   "execution_count": null,
   "metadata": {},
   "outputs": [],
   "source": []
  }
 ],
 "metadata": {
  "kernelspec": {
   "display_name": "Python 3",
   "language": "python",
   "name": "python3"
  },
  "language_info": {
   "codemirror_mode": {
    "name": "ipython",
    "version": 3
   },
   "file_extension": ".py",
   "mimetype": "text/x-python",
   "name": "python",
   "nbconvert_exporter": "python",
   "pygments_lexer": "ipython3",
   "version": "3.7.3"
  }
 },
 "nbformat": 4,
 "nbformat_minor": 2
}
