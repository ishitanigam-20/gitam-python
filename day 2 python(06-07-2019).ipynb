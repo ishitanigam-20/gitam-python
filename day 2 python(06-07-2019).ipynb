{
 "cells": [
  {
   "cell_type": "code",
   "execution_count": 3,
   "metadata": {},
   "outputs": [
    {
     "name": "stdout",
     "output_type": "stream",
     "text": [
      "enter number 1 2\n",
      "enter number 2 1\n",
      "enter number 3 3\n",
      "3 is largest number\n"
     ]
    }
   ],
   "source": [
    "# find greater number among 3 numbers\n",
    "a1 = int(input(\"enter number 1 \"))\n",
    "a2 = int(input(\"enter number 2 \"))\n",
    "a3 = int(input(\"enter number 3 \"))\n",
    "\n",
    "if a1>a2 and a1>a3:\n",
    "    print(a1,\"is largest number \")\n",
    "elif a2>a3 and a2>a1:\n",
    "    print (a2,\" is largest number\")\n",
    "else:\n",
    "    print(a3,\"is largest number\")"
   ]
  },
  {
   "cell_type": "code",
   "execution_count": 7,
   "metadata": {},
   "outputs": [
    {
     "name": "stdout",
     "output_type": "stream",
     "text": [
      "enter year 2020\n",
      "2020 leap year \n"
     ]
    }
   ],
   "source": [
    "# check if a year is leap year or not\n",
    "a1 = int(input(\"enter year \"))\n",
    "\n",
    "if a1%4==0:\n",
    "    print(a1,\"leap year \")\n",
    "else:\n",
    "    print(a1,\"not a leap year \")\n",
    "    "
   ]
  },
  {
   "cell_type": "markdown",
   "metadata": {},
   "source": [
    "#adfs"
   ]
  },
  {
   "cell_type": "markdown",
   "metadata": {},
   "source": [
    "###iteration\n",
    "for\n",
    "while"
   ]
  },
  {
   "cell_type": "markdown",
   "metadata": {},
   "source": [
    "###ITERATION\n",
    "- FOR\n",
    "- WHILE"
   ]
  },
  {
   "cell_type": "code",
   "execution_count": 8,
   "metadata": {},
   "outputs": [
    {
     "name": "stdout",
     "output_type": "stream",
     "text": [
      "GITAM\n",
      "GITAM\n",
      "GITAM\n",
      "GITAM\n",
      "GITAM\n"
     ]
    }
   ],
   "source": [
    "x=0\n",
    "while x<5:\n",
    "    print(\"GITAM\")\n",
    "    x=x+1"
   ]
  },
  {
   "cell_type": "code",
   "execution_count": 11,
   "metadata": {},
   "outputs": [
    {
     "name": "stdout",
     "output_type": "stream",
     "text": [
      "enter value 5\n",
      "1\n",
      "2\n",
      "3\n",
      "4\n",
      "5\n"
     ]
    }
   ],
   "source": [
    "# print N natural numbers\n",
    "N = int(input(\"enter value \"))\n",
    "x=1\n",
    "\n",
    "while x<=N:\n",
    "    print(x)\n",
    "    x=x+1"
   ]
  },
  {
   "cell_type": "code",
   "execution_count": 20,
   "metadata": {},
   "outputs": [
    {
     "name": "stdout",
     "output_type": "stream",
     "text": [
      "enter value 10\n",
      "30 total is \n"
     ]
    }
   ],
   "source": [
    "# ADD EVEN NUMBERS FROM 1 TO N\n",
    "N = int(input(\"enter value \"))\n",
    "s = 0\n",
    "x = 1\n",
    "\n",
    "while  x<=N:\n",
    "    if x%2 == 0:\n",
    "        s = s + x\n",
    "    x=x+1\n",
    "    \n",
    "print(s,\"total is \")\n",
    "    "
   ]
  },
  {
   "cell_type": "code",
   "execution_count": 21,
   "metadata": {},
   "outputs": [
    {
     "name": "stdout",
     "output_type": "stream",
     "text": [
      "6\n"
     ]
    }
   ],
   "source": [
    "#ip == 1234\n",
    "#op==6(2+4)\n",
    "def addEvenDigits(n):\n",
    "    sum=0\n",
    "    while n!=0:\n",
    "        r=n%10\n",
    "        if r%2==0:\n",
    "            sum=sum+r\n",
    "        n=n//10\n",
    "    print(sum)\n",
    "    return\n",
    "addEvenDigits(1234)"
   ]
  },
  {
   "cell_type": "code",
   "execution_count": 26,
   "metadata": {},
   "outputs": [
    {
     "data": {
      "text/plain": [
       "9"
      ]
     },
     "execution_count": 26,
     "metadata": {},
     "output_type": "execute_result"
    }
   ],
   "source": [
    "# ip == 19528\n",
    "# op == 9 (larger digit in a no.)\n",
    "def printLarge(n):\n",
    "    large=0\n",
    "    while n!=0:\n",
    "        r=n%10\n",
    "        if large<r:\n",
    "            large=r\n",
    "        n=n//10\n",
    "    return large\n",
    "printLarge(19528)"
   ]
  },
  {
   "cell_type": "code",
   "execution_count": 27,
   "metadata": {},
   "outputs": [
    {
     "data": {
      "text/plain": [
       "321"
      ]
     },
     "execution_count": 27,
     "metadata": {},
     "output_type": "execute_result"
    }
   ],
   "source": [
    "# ip == 123\n",
    "# op ==321(revese ip)\n",
    "def reverseNumber(n):\n",
    "    rev=0\n",
    "    while n!=0:\n",
    "        r=n%10\n",
    "        rev=rev*10+r\n",
    "        n=n//10\n",
    "    return rev\n",
    "reverseNumber(123)"
   ]
  },
  {
   "cell_type": "code",
   "execution_count": 31,
   "metadata": {},
   "outputs": [
    {
     "name": "stdout",
     "output_type": "stream",
     "text": [
      "no\n",
      "yes\n"
     ]
    }
   ],
   "source": [
    "# check palindrome\n",
    "def isPalindrome(n):\n",
    "    rev=0\n",
    "    buffer=n\n",
    "    while n!=0:\n",
    "        r=n%10\n",
    "        rev=rev*10+r\n",
    "        n=n//10\n",
    "    if buffer==rev:\n",
    "        return \"yes\"\n",
    "    else:\n",
    "        return\"no\"\n",
    "print(isPalindrome(123))\n",
    "print(isPalindrome(121))\n"
   ]
  },
  {
   "cell_type": "code",
   "execution_count": 3,
   "metadata": {},
   "outputs": [
    {
     "name": "stdout",
     "output_type": "stream",
     "text": [
      "100101102103104105106107108109110111112113114115116117118119120121122123124125126127128129130131132133134135136137138139140141142143144145146147148149150"
     ]
    }
   ],
   "source": [
    "def alternateno(lb,ub):\n",
    "    for x in range(lb,ub+1):\n",
    "        print(x,end=\"\")\n",
    "    return\n",
    "alternateno(100,150)"
   ]
  },
  {
   "cell_type": "code",
   "execution_count": null,
   "metadata": {},
   "outputs": [],
   "source": []
  }
 ],
 "metadata": {
  "kernelspec": {
   "display_name": "Python 3",
   "language": "python",
   "name": "python3"
  },
  "language_info": {
   "codemirror_mode": {
    "name": "ipython",
    "version": 3
   },
   "file_extension": ".py",
   "mimetype": "text/x-python",
   "name": "python",
   "nbconvert_exporter": "python",
   "pygments_lexer": "ipython3",
   "version": "3.7.3"
  }
 },
 "nbformat": 4,
 "nbformat_minor": 2
}
